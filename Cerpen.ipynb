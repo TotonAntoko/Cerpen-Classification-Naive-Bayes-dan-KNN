{
 "cells": [
  {
   "cell_type": "markdown",
   "metadata": {},
   "source": [
    "## Preprosessing"
   ]
  },
  {
   "cell_type": "markdown",
   "metadata": {},
   "source": [
    "### Create File CSV"
   ]
  },
  {
   "cell_type": "code",
   "execution_count": 88,
   "metadata": {},
   "outputs": [],
   "source": [
    "import os\n",
    "import re\n",
    "import pickle\n",
    "import numpy as np\n",
    "import pandas as pd\n",
    "\n",
    "from textblob import Word\n",
    "from sklearn.naive_bayes import GaussianNB\n",
    "from sklearn.ensemble import RandomForestClassifier\n",
    "from sklearn.model_selection import train_test_split\n",
    "from sklearn.feature_extraction.text import TfidfVectorizer, CountVectorizer, TfidfTransformer\n",
    "from sklearn.metrics import accuracy_score, cohen_kappa_score, confusion_matrix"
   ]
  },
  {
   "cell_type": "code",
   "execution_count": 2,
   "metadata": {},
   "outputs": [
    {
     "name": "stdout",
     "output_type": "stream",
     "text": [
      "/home/antoko/Documents/KULIAH/Semester 6/Kuliah/Penggalian Data/Tugas/Tubes/Coding/Cerpen/Dataset/txt\n"
     ]
    }
   ],
   "source": [
    "data_folder = \"Dataset/txt\"\n",
    "folders = [\"campuran\",\"maju\",\"mundur\"]\n",
    "\n",
    "os.chdir(data_folder)\n",
    "print(os.getcwd())\n",
    "\n",
    "x = []\n",
    "y = []"
   ]
  },
  {
   "cell_type": "code",
   "execution_count": 3,
   "metadata": {},
   "outputs": [
    {
     "name": "stdout",
     "output_type": "stream",
     "text": [
      "campuran\n",
      "maju\n",
      "mundur\n"
     ]
    }
   ],
   "source": [
    "for i in folders:\n",
    "    files = os.listdir(i)\n",
    "    print(i)\n",
    "    for text_file in files:\n",
    "        file_path = i + \"/\" +text_file\n",
    "        #         print(\"reading file:\", file_path)\n",
    "        with open(file_path, encoding='mac_roman') as f:\n",
    "            data = f.readlines()\n",
    "        data = ' '.join(data)\n",
    "        x.append(data)\n",
    "        y.append(i)"
   ]
  },
  {
   "cell_type": "code",
   "execution_count": 4,
   "metadata": {},
   "outputs": [
    {
     "data": {
      "text/html": [
       "<div>\n",
       "<style scoped>\n",
       "    .dataframe tbody tr th:only-of-type {\n",
       "        vertical-align: middle;\n",
       "    }\n",
       "\n",
       "    .dataframe tbody tr th {\n",
       "        vertical-align: top;\n",
       "    }\n",
       "\n",
       "    .dataframe thead th {\n",
       "        text-align: right;\n",
       "    }\n",
       "</style>\n",
       "<table border=\"1\" class=\"dataframe\">\n",
       "  <thead>\n",
       "    <tr style=\"text-align: right;\">\n",
       "      <th></th>\n",
       "      <th>news</th>\n",
       "      <th>type</th>\n",
       "    </tr>\n",
       "  </thead>\n",
       "  <tbody>\n",
       "    <tr>\n",
       "      <th>0</th>\n",
       "      <td>Memang tidak ada yang terbiasa dengan kehilang...</td>\n",
       "      <td>campuran</td>\n",
       "    </tr>\n",
       "    <tr>\n",
       "      <th>1</th>\n",
       "      <td>Berawal dari sebuah perusahaan swasta dimana t...</td>\n",
       "      <td>campuran</td>\n",
       "    </tr>\n",
       "    <tr>\n",
       "      <th>2</th>\n",
       "      <td>Tepat pada malam Jumat, 27 Oktober 2017 kedua ...</td>\n",
       "      <td>campuran</td>\n",
       "    </tr>\n",
       "    <tr>\n",
       "      <th>3</th>\n",
       "      <td>Sore hari itu, Reza sedang bekerja. Dia adalah...</td>\n",
       "      <td>campuran</td>\n",
       "    </tr>\n",
       "    <tr>\n",
       "      <th>4</th>\n",
       "      <td>Tasynia adalah anak yang malas dan enggan mela...</td>\n",
       "      <td>campuran</td>\n",
       "    </tr>\n",
       "  </tbody>\n",
       "</table>\n",
       "</div>"
      ],
      "text/plain": [
       "                                                news      type\n",
       "0  Memang tidak ada yang terbiasa dengan kehilang...  campuran\n",
       "1  Berawal dari sebuah perusahaan swasta dimana t...  campuran\n",
       "2  Tepat pada malam Jumat, 27 Oktober 2017 kedua ...  campuran\n",
       "3  Sore hari itu, Reza sedang bekerja. Dia adalah...  campuran\n",
       "4  Tasynia adalah anak yang malas dan enggan mela...  campuran"
      ]
     },
     "execution_count": 4,
     "metadata": {},
     "output_type": "execute_result"
    }
   ],
   "source": [
    "data = {'news': x, 'type': y}       \n",
    "df = pd.DataFrame(data)\n",
    "df.head()"
   ]
  },
  {
   "cell_type": "code",
   "execution_count": 5,
   "metadata": {},
   "outputs": [
    {
     "name": "stdout",
     "output_type": "stream",
     "text": [
      "/home/antoko/Documents/KULIAH/Semester 6/Kuliah/Penggalian Data/Tugas/Tubes/Coding/Cerpen\n",
      "writing csv flie ...\n"
     ]
    }
   ],
   "source": [
    "os.chdir('../../')\n",
    "print(os.getcwd())\n",
    "df.to_csv('dataset.csv', index=False)\n",
    "print('writing csv flie ...')"
   ]
  },
  {
   "cell_type": "markdown",
   "metadata": {},
   "source": [
    " "
   ]
  },
  {
   "cell_type": "markdown",
   "metadata": {},
   "source": [
    " "
   ]
  },
  {
   "cell_type": "markdown",
   "metadata": {},
   "source": [
    "### Cleaning Data"
   ]
  },
  {
   "cell_type": "code",
   "execution_count": 90,
   "metadata": {},
   "outputs": [],
   "source": [
    "def clean_str(string):\n",
    "    \"\"\"\n",
    "    Tokenization/string cleaning for datasets.\n",
    "    Original taken from https://github.com/yoonkim/CNN_sentence/blob/master/process_data.py\n",
    "    \"\"\"\n",
    "    string = re.sub(r\"\\'s\", \"\", string)\n",
    "    string = re.sub(r\"\\'ve\", \"\", string)\n",
    "    string = re.sub(r\"n\\'t\", \"\", string)\n",
    "    string = re.sub(r\"\\'re\", \"\", string)\n",
    "    string = re.sub(r\"\\'d\", \"\", string)\n",
    "    string = re.sub(r\"\\'ll\", \"\", string)\n",
    "    string = re.sub(r\",\", \"\", string)\n",
    "    string = re.sub(r\"!\", \" ! \", string)\n",
    "    string = re.sub(r\"\\(\", \"\", string)\n",
    "    string = re.sub(r\"\\)\", \"\", string)\n",
    "    string = re.sub(r\"\\?\", \"\", string)\n",
    "    string = re.sub(r\"'\", \"\", string)\n",
    "    string = re.sub(r\"[^A-Za-z0-9(),!?\\'\\`]\", \" \", string)\n",
    "    string = re.sub(r\"[0-9]\\w+|[0-9]\",\"\", string)\n",
    "    string = re.sub(r\"\\s{2,}\", \" \", string)\n",
    "    return string.strip().lower()"
   ]
  },
  {
   "cell_type": "code",
   "execution_count": 91,
   "metadata": {},
   "outputs": [],
   "source": [
    "from sklearn.preprocessing import LabelEncoder\n",
    "lb_make = LabelEncoder()\n",
    "data = pd.read_csv('dataset.csv')\n",
    "# data['type'] = lb_make.fit_transform(data['type'])\n",
    "x = data['news'].tolist()\n",
    "y = data['type'].tolist()\n",
    "\n",
    "from Sastrawi.Stemmer.StemmerFactory import StemmerFactory\n",
    "factory = StemmerFactory()\n",
    "stemmer = factory.create_stemmer()\n",
    "# stemmer.stem(x[0])"
   ]
  },
  {
   "cell_type": "code",
   "execution_count": 92,
   "metadata": {},
   "outputs": [],
   "source": [
    "for index,value in enumerate(x):\n",
    "#     x[index] = stemmer.stem(value)\n",
    "#     x[index] = ' '.join(stemmer.stem(value).split())\n",
    "#     print(\"processing data:\",index)\n",
    "    x[index] = ' '.join([Word(word).lemmatize() for word in clean_str(value).split()])\n",
    "# x"
   ]
  },
  {
   "cell_type": "code",
   "execution_count": 93,
   "metadata": {},
   "outputs": [],
   "source": [
    "VSM = CountVectorizer().fit_transform(x)\n",
    "X = TfidfTransformer().fit_transform(VSM)\n",
    "Y = np.array(y)\n",
    "# vect = TfidfVectorizer(stop_words='english',min_df=2)\n",
    "# X = vect.fit_transform(x)\n",
    "# Y = np.array(y)"
   ]
  },
  {
   "cell_type": "code",
   "execution_count": 102,
   "metadata": {},
   "outputs": [
    {
     "name": "stdout",
     "output_type": "stream",
     "text": [
      "no of features extracted: 16834\n",
      "train size: (195, 16834)\n",
      "test size: (66, 16834)\n"
     ]
    }
   ],
   "source": [
    "print(\"no of features extracted:\",X.shape[1])\n",
    "\n",
    "X_train, X_test, y_train, y_test = train_test_split(X, Y, test_size=0.25, random_state=42)\n",
    "\n",
    "print(\"train size:\", X_train.shape)\n",
    "print(\"test size:\", X_test.shape)"
   ]
  },
  {
   "cell_type": "markdown",
   "metadata": {},
   "source": [
    "### Create Model"
   ]
  },
  {
   "cell_type": "markdown",
   "metadata": {},
   "source": [
    "#### Random Forest (Gak digunakan dalam paper ini, hanya percobaan)"
   ]
  },
  {
   "cell_type": "code",
   "execution_count": 103,
   "metadata": {},
   "outputs": [
    {
     "data": {
      "text/plain": [
       "RandomForestClassifier(bootstrap=True, class_weight=None, criterion='gini',\n",
       "                       max_depth=150, max_features='auto', max_leaf_nodes=None,\n",
       "                       min_impurity_decrease=0.0, min_impurity_split=None,\n",
       "                       min_samples_leaf=1, min_samples_split=2,\n",
       "                       min_weight_fraction_leaf=0.0, n_estimators=300, n_jobs=2,\n",
       "                       oob_score=False, random_state=None, verbose=0,\n",
       "                       warm_start=False)"
      ]
     },
     "execution_count": 103,
     "metadata": {},
     "output_type": "execute_result"
    }
   ],
   "source": [
    "model = RandomForestClassifier(n_estimators=300, max_depth=150,n_jobs=2)\n",
    "model.fit(X_train, y_train)"
   ]
  },
  {
   "cell_type": "code",
   "execution_count": 104,
   "metadata": {},
   "outputs": [
    {
     "name": "stdout",
     "output_type": "stream",
     "text": [
      "Confusion Matrix:\n",
      " [[ 0 15  0]\n",
      " [ 0 42  0]\n",
      " [ 0  9  0]]\n",
      "\n",
      "Kappa:  0.0\n",
      "\n",
      "Accuracy:  0.6363636363636364\n"
     ]
    }
   ],
   "source": [
    "y_pred = model.predict(X_test)\n",
    "# y_pred = clf.predict(X_test.toarray())\n",
    "c_mat = confusion_matrix(y_test,y_pred)\n",
    "kappa = cohen_kappa_score(y_test,y_pred)\n",
    "acc = accuracy_score(y_test,y_pred)\n",
    "print(\"Confusion Matrix:\\n\", c_mat)\n",
    "print(\"\\nKappa: \",kappa)\n",
    "print(\"\\nAccuracy: \",acc)"
   ]
  },
  {
   "cell_type": "markdown",
   "metadata": {},
   "source": [
    "### Naive Bayes"
   ]
  },
  {
   "cell_type": "code",
   "execution_count": 105,
   "metadata": {},
   "outputs": [
    {
     "data": {
      "text/plain": [
       "GaussianNB(priors=None, var_smoothing=1e-09)"
      ]
     },
     "execution_count": 105,
     "metadata": {},
     "output_type": "execute_result"
    }
   ],
   "source": [
    "clf = GaussianNB()\n",
    "clf.fit(X_train.toarray(), y_train)"
   ]
  },
  {
   "cell_type": "code",
   "execution_count": 106,
   "metadata": {},
   "outputs": [
    {
     "name": "stdout",
     "output_type": "stream",
     "text": [
      "Confusion Matrix:\n",
      " [[ 0 13  2]\n",
      " [ 7 31  4]\n",
      " [ 0  7  2]]\n",
      "\n",
      "Accuracy:  0.5\n"
     ]
    }
   ],
   "source": [
    "# y_pred = model.predict(X_test)\n",
    "y_pred = clf.predict(X_test.toarray())\n",
    "c_mat = confusion_matrix(y_test,y_pred)\n",
    "# kappa = cohen_kappa_score(y_test,y_pred)\n",
    "acc = accuracy_score(y_test,y_pred)\n",
    "print(\"Confusion Matrix:\\n\", c_mat)\n",
    "# print(\"\\nKappa: \",kappa)\n",
    "print(\"\\nAccuracy: \",acc)"
   ]
  },
  {
   "cell_type": "markdown",
   "metadata": {},
   "source": [
    "### KNN"
   ]
  },
  {
   "cell_type": "code",
   "execution_count": 107,
   "metadata": {},
   "outputs": [
    {
     "name": "stdout",
     "output_type": "stream",
     "text": [
      "[0.51851852 0.62962963 0.55555556 0.51851852 0.48148148 0.55555556\n",
      " 0.61538462 0.6        0.45833333 0.625     ]\n",
      "0.5557977207977208\n"
     ]
    }
   ],
   "source": [
    "from sklearn.neighbors import KNeighborsClassifier\n",
    "from sklearn.model_selection import cross_val_score\n",
    "knn= KNeighborsClassifier(n_neighbors=10)\n",
    "score= cross_val_score(knn, X, Y, cv=10, scoring='accuracy') \n",
    "print(score)\n",
    "print(score.mean())"
   ]
  },
  {
   "cell_type": "code",
   "execution_count": 108,
   "metadata": {},
   "outputs": [
    {
     "name": "stdout",
     "output_type": "stream",
     "text": [
      "[0.46960541310541315, 0.459005698005698, 0.4892279202279203, 0.4963148148148148, 0.5033774928774928, 0.5003162393162394, 0.5231552706552706, 0.5317849002849002, 0.5552165242165242, 0.5557977207977208, 0.5633717948717949, 0.5684643874643875, 0.5718589743589744, 0.568025641025641, 0.5873034188034187, 0.5873034188034187, 0.5910071225071225, 0.5868404558404559, 0.5950071225071225, 0.5908404558404559, 0.5871367521367521, 0.5945441595441595, 0.5908404558404559, 0.5908404558404559, 0.5945441595441595, 0.5945441595441595, 0.5945441595441595, 0.5945441595441595, 0.5945441595441595, 0.5945441595441595]\n"
     ]
    }
   ],
   "source": [
    "k_range = range(1,31)  #1-30\n",
    "k_score = []\n",
    "for k in k_range:\n",
    "    knn=KNeighborsClassifier(n_neighbors=k)\n",
    "    score= cross_val_score(knn, X, Y, cv=10, scoring='accuracy')\n",
    "    k_score.append(score.mean())\n",
    "print(k_score)"
   ]
  },
  {
   "cell_type": "code",
   "execution_count": 109,
   "metadata": {},
   "outputs": [
    {
     "data": {
      "image/png": "[encoded data removed]",
      "text/plain": [
       "<Figure size 432x288 with 1 Axes>"
      ]
     },
     "metadata": {
      "needs_background": "light"
     },
     "output_type": "display_data"
    }
   ],
   "source": [
    "import matplotlib.pyplot as plt\n",
    "plt.plot(k_range, k_score)\n",
    "plt.xlabel('Jumlah Iterasi')\n",
    "plt.ylabel('Score K')\n",
    "plt.show()"
   ]
  },
  {
   "cell_type": "code",
   "execution_count": 16,
   "metadata": {},
   "outputs": [],
   "source": [
    "model_path = \"model.pickle\"\n",
    "vectorizer_path = \"vectorizer.pickle\"\n",
    "pickle.dump(model, open(model_path, 'wb'))\n",
    "pickle.dump(vect, open(vectorizer_path, \"wb\"))"
   ]
  },
  {
   "cell_type": "code",
   "execution_count": null,
   "metadata": {},
   "outputs": [],
   "source": []
  },
  {
   "cell_type": "code",
   "execution_count": null,
   "metadata": {},
   "outputs": [],
   "source": []
  }
 ],
 "metadata": {
  "kernelspec": {
   "display_name": "Python 3",
   "language": "python",
   "name": "python3"
  },
  "language_info": {
   "codemirror_mode": {
    "name": "ipython",
    "version": 3
   },
   "file_extension": ".py",
   "mimetype": "text/x-python",
   "name": "python",
   "nbconvert_exporter": "python",
   "pygments_lexer": "ipython3",
   "version": "3.7.3"
  }
 },
 "nbformat": 4,
 "nbformat_minor": 4
}
