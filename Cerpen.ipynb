{
 "cells": [
  {
   "cell_type": "markdown",
   "metadata": {},
   "source": [
    "## Preprosessing"
   ]
  },
  {
   "cell_type": "markdown",
   "metadata": {},
   "source": [
    "### Create File CSV"
   ]
  },
  {
   "cell_type": "code",
   "execution_count": 207,
   "metadata": {},
   "outputs": [],
   "source": [
    "import os\n",
    "import re\n",
    "import pickle\n",
    "import numpy as np\n",
    "import pandas as pd\n",
    "import seaborn as sns\n",
    "import matplotlib.pyplot as plt\n",
    "\n",
    "from sklearn import tree\n",
    "from textblob import Word\n",
    "from matplotlib import pyplot\n",
    "from sklearn.model_selection import KFold\n",
    "from sklearn.naive_bayes import GaussianNB\n",
    "from sklearn.ensemble import BaggingClassifier\n",
    "from sklearn.neighbors import KNeighborsClassifier\n",
    "from sklearn.model_selection import cross_val_score\n",
    "from sklearn.feature_extraction.text import CountVectorizer, TfidfTransformer\n",
    "from sklearn.metrics import accuracy_score, confusion_matrix, classification_report"
   ]
  },
  {
   "cell_type": "code",
   "execution_count": 208,
   "metadata": {},
   "outputs": [
    {
     "name": "stdout",
     "output_type": "stream",
     "text": [
      "/home/antoko/Documents/KULIAH/Semester 6/Kuliah/Penggalian Data/Tugas/Tubes/Coding/Cerpen/Dataset/txt\n"
     ]
    }
   ],
   "source": [
    "data_folder = \"Dataset/txt\"\n",
    "folders = [\"campuran\",\"maju\",\"mundur\"]\n",
    "\n",
    "os.chdir(data_folder)\n",
    "print(os.getcwd())"
   ]
  },
  {
   "cell_type": "code",
   "execution_count": 209,
   "metadata": {},
   "outputs": [
    {
     "name": "stdout",
     "output_type": "stream",
     "text": [
      "campuran\n",
      "maju\n",
      "mundur\n"
     ]
    }
   ],
   "source": [
    "x, y = ([],[])\n",
    "for i in folders:\n",
    "    files = os.listdir(i)\n",
    "    print(i)\n",
    "    for text_file in files:\n",
    "        file_path = i + \"/\" +text_file\n",
    "        #         print(\"reading file:\", file_path)\n",
    "        with open(file_path, encoding='mac_roman') as f:\n",
    "            data = f.readlines()\n",
    "        data = ' '.join(data)\n",
    "        x.append(data)\n",
    "        y.append(i)"
   ]
  },
  {
   "cell_type": "code",
   "execution_count": 210,
   "metadata": {},
   "outputs": [
    {
     "name": "stdout",
     "output_type": "stream",
     "text": [
      "/home/antoko/Documents/KULIAH/Semester 6/Kuliah/Penggalian Data/Tugas/Tubes/Coding/Cerpen\n"
     ]
    }
   ],
   "source": [
    "# Change to Base Dir\n",
    "os.chdir('../../')\n",
    "print(os.getcwd())"
   ]
  },
  {
   "cell_type": "code",
   "execution_count": 211,
   "metadata": {},
   "outputs": [
    {
     "name": "stdout",
     "output_type": "stream",
     "text": [
      "Dataset Sudah Ada\n",
      "                                                news      type\n",
      "0  ‚ÄúKumohon. Beri aku waktu lebih lama.‚Äù\\n ‚Ä...  campuran\n",
      "1  Dila dan Rafa adalah sepasang kekasih yang jat...      maju\n",
      "2  Aku adalah seorang gadis yang sebentar lagi ak...  campuran\n",
      "3  Hari demi hari tahun telah berganti, rasanya b...    mundur\n",
      "4  Di antara banyak kenangan yang sudah aku lalui...  campuran\n"
     ]
    }
   ],
   "source": [
    "check = os.path.exists('dataset.csv')\n",
    "if check == True:\n",
    "    print('Dataset Sudah Ada')\n",
    "    df = pd.read_csv('dataset.csv')\n",
    "    print(df.head())\n",
    "else:\n",
    "    data = {'news': x, 'type': y}\n",
    "    df = pd.DataFrame(data)\n",
    "    df = df.sample(frac=1).reset_index(drop=True)\n",
    "    print(df.head())"
   ]
  },
  {
   "cell_type": "code",
   "execution_count": 212,
   "metadata": {},
   "outputs": [
    {
     "name": "stdout",
     "output_type": "stream",
     "text": [
      "Dataset Sudah Ada\n"
     ]
    }
   ],
   "source": [
    "if check == True:\n",
    "    print('Dataset Sudah Ada')\n",
    "else:\n",
    "    print(os.getcwd())\n",
    "    df.to_csv('dataset.csv', index=False)\n",
    "    print('writing csv flie ...')"
   ]
  },
  {
   "cell_type": "markdown",
   "metadata": {},
   "source": [
    " "
   ]
  },
  {
   "cell_type": "markdown",
   "metadata": {},
   "source": [
    " "
   ]
  },
  {
   "cell_type": "markdown",
   "metadata": {},
   "source": [
    "### Cleaning Data"
   ]
  },
  {
   "cell_type": "code",
   "execution_count": 213,
   "metadata": {},
   "outputs": [],
   "source": [
    "def clean_str(string):\n",
    "    \n",
    "    string = re.sub(r\"\\'s\", \"\", string)\n",
    "    string = re.sub(r\"\\'ve\", \"\", string)\n",
    "    string = re.sub(r\"n\\'t\", \"\", string)\n",
    "    string = re.sub(r\"\\'re\", \"\", string)\n",
    "    string = re.sub(r\"\\'d\", \"\", string)\n",
    "    string = re.sub(r\"\\'ll\", \"\", string)\n",
    "    string = re.sub(r\",\", \"\", string)\n",
    "    string = re.sub(r\"!\", \" ! \", string)\n",
    "    string = re.sub(r\"\\(\", \"\", string)\n",
    "    string = re.sub(r\"\\)\", \"\", string)\n",
    "    string = re.sub(r\"\\?\", \"\", string)\n",
    "    string = re.sub(r\"'\", \"\", string)\n",
    "    string = re.sub(r\"[^A-Za-z0-9(),!?\\'\\`]\", \" \", string)\n",
    "    string = re.sub(r\"[0-9]\\w+|[0-9]\",\"\", string)\n",
    "    string = re.sub(r\"\\s{2,}\", \" \", string)\n",
    "    return string.strip().lower()"
   ]
  },
  {
   "cell_type": "code",
   "execution_count": 214,
   "metadata": {},
   "outputs": [],
   "source": [
    "data = pd.read_csv('dataset.csv')\n",
    "# data['type'] = lb_make.fit_transform(data['type'])\n",
    "x = data['news'].tolist()\n",
    "y = data['type'].tolist()\n",
    "\n",
    "from Sastrawi.Stemmer.StemmerFactory import StemmerFactory\n",
    "factory = StemmerFactory()\n",
    "stemmer = factory.create_stemmer()"
   ]
  },
  {
   "cell_type": "code",
   "execution_count": 215,
   "metadata": {},
   "outputs": [
    {
     "name": "stdout",
     "output_type": "stream",
     "text": [
      "0 1 2 3 4 5 6 7 8 9 10 11 12 13 14 15 16 17 18 19 20 21 22 23 24 25 26 27 28 29 30 31 32 33 34 35 36 37 38 39 40 41 42 43 44 45 46 47 48 49 50 51 52 53 54 55 56 57 58 59 60 61 62 63 64 65 66 67 68 69 70 71 72 73 74 75 76 77 78 79 80 81 82 83 84 85 86 87 88 89 90 91 92 93 94 95 96 97 98 99 100 101 102 103 104 105 106 107 108 109 110 111 112 113 114 115 116 117 118 119 120 121 122 123 124 125 126 127 128 129 130 131 132 133 134 135 136 137 138 139 140 141 142 143 144 145 146 147 148 149 150 151 152 153 154 155 156 157 158 159 160 161 162 163 164 165 166 167 168 169 170 171 172 173 174 175 176 177 178 179 180 181 182 183 184 185 186 187 188 189 190 191 192 193 194 195 196 197 198 199 200 201 202 203 204 205 206 207 208 209 210 "
     ]
    }
   ],
   "source": [
    "for index,value in enumerate(x):\n",
    "    print(index, end = ' ')\n",
    "#     x[index] = stemmer.stem(value)\n",
    "    x[index] = ' '.join([Word(word).lemmatize() for word in clean_str(value).split()])"
   ]
  },
  {
   "cell_type": "code",
   "execution_count": 216,
   "metadata": {},
   "outputs": [],
   "source": [
    "VSM = CountVectorizer().fit_transform(x)\n",
    "X = TfidfTransformer().fit_transform(VSM)\n",
    "Y = np.array(y)"
   ]
  },
  {
   "cell_type": "markdown",
   "metadata": {},
   "source": [
    "### K Fold With BaggingClassifier"
   ]
  },
  {
   "cell_type": "code",
   "execution_count": 217,
   "metadata": {},
   "outputs": [
    {
     "name": "stdout",
     "output_type": "stream",
     "text": [
      "KFold(n_splits=21, random_state=10, shuffle=False)\n",
      "1 2 3 4 5 6 7 8 9 10 11 12 13 14 15 16 17 18 19 20 21 shape x_train : (201, 15400)\n",
      "shape x_test : (10, 15400)\n",
      "accuracy :  [45.45454545454545, 30.0, 60.0, 40.0, 50.0, 20.0, 30.0, 30.0, 30.0, 30.0, 80.0, 30.0, 40.0, 10.0, 40.0, 40.0, 70.0, 40.0, 10.0, 50.0, 40.0]\n",
      "['campuran' 'mundur' 'mundur' 'maju' 'mundur' 'maju' 'mundur' 'campuran'\n",
      " 'mundur' 'mundur']\n"
     ]
    }
   ],
   "source": [
    "# KFOLD\n",
    "n = 21\n",
    "from sklearn.model_selection import KFold\n",
    "kf=KFold(n_splits=n, shuffle=False, random_state=10)\n",
    "print(kf)  #buat tau Kfold dan parameter defaultnya\n",
    "i=1        #ini gapenting, cuma buat nandain fold nya.\n",
    "\n",
    "clf = BaggingClassifier(base_estimator=tree.DecisionTreeClassifier(criterion=\"entropy\"), \n",
    "                        n_estimators=50, \n",
    "                        max_samples = 0.2, \n",
    "                        max_features = 0.2, random_state=10)\n",
    "\n",
    "accuracy_model = []\n",
    "higherAcc = 0\n",
    "Iterasi = 0\n",
    "X_train, y_train, X_test, y_test = (0,0,0,0)\n",
    "for train_index, test_index in kf.split(X):\n",
    "    print(i, end=' ')\n",
    "    #     print(\"TRAIN :\", train_index, \"TEST :\", test_index)\n",
    "    X_train_temp=X[train_index]\n",
    "    X_test_temp=X[test_index]\n",
    "    y_train_temp=Y[train_index]\n",
    "    y_test_temp=Y[test_index]\n",
    "    \n",
    "    # Train the model\n",
    "    model = clf.fit(X_train_temp.toarray(), y_train_temp)\n",
    "    # Append to accuracy_model the accuracy of the model\n",
    "    acc = accuracy_score(y_test_temp, model.predict(X_test_temp.toarray()), normalize=True)*100\n",
    "    if acc > higherAcc:\n",
    "        higherAcc = acc\n",
    "        Iterasi = i\n",
    "        X_train, y_train, X_test, y_test = (X_train_temp,y_train_temp,X_test_temp,y_test_temp)\n",
    "    accuracy_model.append(acc)\n",
    "    i+=1\n",
    "    \n",
    "print(\"shape x_train :\", X_train.shape)\n",
    "print(\"shape x_test :\", X_test.shape)\n",
    "# Print the accuracy    \n",
    "print('accuracy : ', accuracy_model)\n",
    "print(y_test)\n",
    "\n",
    "scores = pd.DataFrame(accuracy_model,columns=['Scores'])"
   ]
  },
  {
   "cell_type": "code",
   "execution_count": 218,
   "metadata": {},
   "outputs": [
    {
     "data": {
      "image/png": "[encoded data removed]",
      "text/plain": [
       "<Figure size 842.4x595.44 with 1 Axes>"
      ]
     },
     "metadata": {
      "needs_background": "light"
     },
     "output_type": "display_data"
    },
    {
     "name": "stdout",
     "output_type": "stream",
     "text": [
      "Higher Acc :  80.0% Iterasi Ke : 11\n"
     ]
    }
   ],
   "source": [
    "fig, ax = pyplot.subplots(figsize=(11.7, 8.27))\n",
    "\n",
    "# sns.set(style=\"white\", rc={\"lines.linewidth\": 3})\n",
    "sns_plot = sns.barplot(ax=ax, x=list(range(0,Iterasi)),y=\"Scores\", data=scores[:Iterasi], color=\"b\")\n",
    "sns_plot.set_title('Train Test Split Accuracy')\n",
    "sns_plot.figure.savefig(\"Plot BaggingClassifier Decision Tree.png\")\n",
    "sns_plot.set(xlabel=\"Iterasi\")\n",
    "plt.show()\n",
    "print(\"Higher Acc : \", str(higherAcc)+\"%\" + \" Iterasi Ke : \"+str(Iterasi))"
   ]
  },
  {
   "cell_type": "markdown",
   "metadata": {},
   "source": [
    "### Create Model"
   ]
  },
  {
   "cell_type": "markdown",
   "metadata": {},
   "source": [
    "### Naive Bayes With BaggingClassifier"
   ]
  },
  {
   "cell_type": "code",
   "execution_count": 219,
   "metadata": {},
   "outputs": [
    {
     "name": "stdout",
     "output_type": "stream",
     "text": [
      "Confusion Matrix:\n",
      " [[1 0 1]\n",
      " [1 1 0]\n",
      " [1 0 5]]\n",
      "\n",
      "Accuracy:  70.0%\n",
      "              precision    recall  f1-score   support\n",
      "\n",
      "    campuran       0.33      0.50      0.40         2\n",
      "        maju       1.00      0.50      0.67         2\n",
      "      mundur       0.83      0.83      0.83         6\n",
      "\n",
      "    accuracy                           0.70        10\n",
      "   macro avg       0.72      0.61      0.63        10\n",
      "weighted avg       0.77      0.70      0.71        10\n",
      "\n"
     ]
    }
   ],
   "source": [
    "# clf = GaussianNB()\n",
    "clf = BaggingClassifier(base_estimator=GaussianNB(), \n",
    "                        n_estimators=50, \n",
    "                        max_samples = 0.2, \n",
    "                        max_features = 0.2, random_state=10)\n",
    "clf.fit(X_train.toarray(), y_train)\n",
    "\n",
    "y_pred = clf.predict(X_test.toarray())\n",
    "c_mat = confusion_matrix(y_test,y_pred)\n",
    "acc = accuracy_score(y_test,y_pred) * 100\n",
    "print(\"Confusion Matrix:\\n\", c_mat)\n",
    "print(\"\\nAccuracy: \",str(acc)+\"%\")\n",
    "\n",
    "print (classification_report(y_test, y_pred))"
   ]
  },
  {
   "cell_type": "markdown",
   "metadata": {},
   "source": [
    "### Naive Bayes"
   ]
  },
  {
   "cell_type": "code",
   "execution_count": 220,
   "metadata": {},
   "outputs": [
    {
     "name": "stdout",
     "output_type": "stream",
     "text": [
      "Confusion Matrix:\n",
      " [[1 0 1]\n",
      " [1 1 0]\n",
      " [4 0 2]]\n",
      "\n",
      "Accuracy:  40.0%\n",
      "              precision    recall  f1-score   support\n",
      "\n",
      "    campuran       0.17      0.50      0.25         2\n",
      "        maju       1.00      0.50      0.67         2\n",
      "      mundur       0.67      0.33      0.44         6\n",
      "\n",
      "    accuracy                           0.40        10\n",
      "   macro avg       0.61      0.44      0.45        10\n",
      "weighted avg       0.63      0.40      0.45        10\n",
      "\n"
     ]
    }
   ],
   "source": [
    "clf = GaussianNB()\n",
    "clf.fit(X_train.toarray(), y_train)\n",
    "\n",
    "y_pred = clf.predict(X_test.toarray())\n",
    "c_mat = confusion_matrix(y_test,y_pred)\n",
    "acc = accuracy_score(y_test,y_pred) * 100\n",
    "print(\"Confusion Matrix:\\n\", c_mat)\n",
    "print(\"\\nAccuracy: \",str(acc)+\"%\")\n",
    "\n",
    "print (classification_report(y_test, y_pred))"
   ]
  },
  {
   "cell_type": "markdown",
   "metadata": {},
   "source": [
    "### KNN With BaggingClassifier"
   ]
  },
  {
   "cell_type": "code",
   "execution_count": 221,
   "metadata": {},
   "outputs": [
    {
     "name": "stdout",
     "output_type": "stream",
     "text": [
      "1 2 3 4 5 6 7 8 9 10 11 12 13 14 15 16 17 18 19 20 21 22 23 24 25 26 27 28 29 30 \n",
      "\n",
      "\n",
      "\n",
      "Accuracy:  [50.0, 60.0, 70.0, 80.0, 60.0, 70.0, 50.0, 40.0, 30.0, 20.0, 20.0, 20.0, 20.0, 30.0, 20.0, 30.0, 30.0, 20.0, 20.0, 30.0, 20.0, 20.0, 50.0, 50.0, 50.0, 60.0, 60.0, 50.0, 50.0, 60.0]\n",
      "High Score:  80.0 (Iterasi 4)\n"
     ]
    }
   ],
   "source": [
    "k_range = range(1,31)  #1-30\n",
    "k_score = []\n",
    "highScore = 0\n",
    "getIterasi = 0\n",
    "for k in k_range:\n",
    "    print(k, end=' ')\n",
    "    knn = BaggingClassifier(base_estimator=KNeighborsClassifier(n_neighbors=k, metric='cosine'), \n",
    "                            n_estimators=50, \n",
    "                            max_samples = 0.2, \n",
    "                            max_features = 0.2, random_state=10)\n",
    "    knn.fit(X_train.toarray(), y_train)\n",
    "\n",
    "    #Predict the response for test dataset\n",
    "    y_pred = knn.predict(X_test.toarray())\n",
    "    c_mat = confusion_matrix(y_test,y_pred)\n",
    "    acc = accuracy_score(y_test,y_pred) * 100\n",
    "    k_score.append(acc)\n",
    "    if acc > highScore:\n",
    "        highScore = acc\n",
    "        getIterasi = k\n",
    "print('\\n')\n",
    "print()\n",
    "print(\"\\nAccuracy: \", k_score)\n",
    "print(\"High Score: \", str(highScore) + \" (Iterasi \" + str(getIterasi) + \")\")"
   ]
  },
  {
   "cell_type": "code",
   "execution_count": 222,
   "metadata": {},
   "outputs": [
    {
     "data": {
      "image/png": "[encoded data removed]",
      "text/plain": [
       "<Figure size 432x288 with 1 Axes>"
      ]
     },
     "metadata": {
      "needs_background": "light"
     },
     "output_type": "display_data"
    }
   ],
   "source": [
    "plt.plot(k_range, k_score)\n",
    "plt.xlabel('Jumlah Iterasi')\n",
    "plt.ylabel('Score K')\n",
    "plt.show()"
   ]
  },
  {
   "cell_type": "code",
   "execution_count": 224,
   "metadata": {},
   "outputs": [
    {
     "name": "stdout",
     "output_type": "stream",
     "text": [
      "80.0\n",
      "              precision    recall  f1-score   support\n",
      "\n",
      "    campuran       0.50      0.50      0.50         2\n",
      "        maju       1.00      1.00      1.00         2\n",
      "      mundur       0.83      0.83      0.83         6\n",
      "\n",
      "    accuracy                           0.80        10\n",
      "   macro avg       0.78      0.78      0.78        10\n",
      "weighted avg       0.80      0.80      0.80        10\n",
      "\n"
     ]
    }
   ],
   "source": [
    "knn = BaggingClassifier(base_estimator=KNeighborsClassifier(n_neighbors=getIterasi, metric='cosine'), \n",
    "                            n_estimators=50, \n",
    "                            max_samples = 0.2, \n",
    "                            max_features = 0.2, random_state=10)\n",
    "knn.fit(X_train.toarray(), y_train)\n",
    "\n",
    "#Predict the response for test dataset\n",
    "y_pred = knn.predict(X_test.toarray())\n",
    "c_mat = confusion_matrix(y_test,y_pred)\n",
    "acc = accuracy_score(y_test,y_pred) * 100\n",
    "print(acc)\n",
    "print (classification_report(y_test, y_pred))"
   ]
  },
  {
   "cell_type": "markdown",
   "metadata": {},
   "source": [
    "### KNN Without Bagging Classifier"
   ]
  },
  {
   "cell_type": "code",
   "execution_count": 225,
   "metadata": {},
   "outputs": [
    {
     "name": "stdout",
     "output_type": "stream",
     "text": [
      "1 2 3 4 5 6 7 8 9 10 11 12 13 14 15 16 17 18 19 20 21 22 23 24 25 26 27 28 29 30 \n",
      "\n",
      "\n",
      "\n",
      "Accuracy:  [60.0, 0.0, 50.0, 30.0, 40.0, 30.0, 20.0, 20.0, 30.0, 20.0, 40.0, 20.0, 30.0, 40.0, 50.0, 40.0, 40.0, 50.0, 40.0, 50.0, 40.0, 40.0, 40.0, 30.0, 50.0, 50.0, 40.0, 40.0, 40.0, 40.0]\n",
      "High Score:  60.0 (Iterasi 1)\n"
     ]
    }
   ],
   "source": [
    "k_range = range(1,31)  #1-30\n",
    "k_score = []\n",
    "highScore = 0\n",
    "getIterasi = 0\n",
    "for k in k_range:\n",
    "    print(k, end=' ')\n",
    "    knn = KNeighborsClassifier(n_neighbors=k, metric='cosine')\n",
    "    knn.fit(X_train.toarray(), y_train)\n",
    "\n",
    "    #Predict the response for test dataset\n",
    "    y_pred = knn.predict(X_test.toarray())\n",
    "    c_mat = confusion_matrix(y_test,y_pred)\n",
    "    acc = accuracy_score(y_test,y_pred) * 100\n",
    "    k_score.append(acc)\n",
    "    if acc > highScore:\n",
    "        highScore = acc\n",
    "        getIterasi = k\n",
    "print('\\n')\n",
    "print()\n",
    "print(\"\\nAccuracy: \", k_score)\n",
    "print(\"High Score: \", str(highScore) + \" (Iterasi \" + str(getIterasi) + \")\")"
   ]
  },
  {
   "cell_type": "code",
   "execution_count": 226,
   "metadata": {},
   "outputs": [
    {
     "data": {
      "image/png": "[encoded data removed]",
      "text/plain": [
       "<Figure size 432x288 with 1 Axes>"
      ]
     },
     "metadata": {
      "needs_background": "light"
     },
     "output_type": "display_data"
    }
   ],
   "source": [
    "plt.plot(k_range, k_score)\n",
    "plt.xlabel('Jumlah Iterasi')\n",
    "plt.ylabel('Score K')\n",
    "plt.show()"
   ]
  },
  {
   "cell_type": "code",
   "execution_count": 227,
   "metadata": {},
   "outputs": [
    {
     "name": "stdout",
     "output_type": "stream",
     "text": [
      "60.0\n",
      "              precision    recall  f1-score   support\n",
      "\n",
      "    campuran       0.00      0.00      0.00         2\n",
      "        maju       0.67      1.00      0.80         2\n",
      "      mundur       0.67      0.67      0.67         6\n",
      "\n",
      "    accuracy                           0.60        10\n",
      "   macro avg       0.44      0.56      0.49        10\n",
      "weighted avg       0.53      0.60      0.56        10\n",
      "\n"
     ]
    }
   ],
   "source": [
    "knn = KNeighborsClassifier(n_neighbors=getIterasi, metric='cosine')\n",
    "knn.fit(X_train.toarray(), y_train)\n",
    "\n",
    "#Predict the response for test dataset\n",
    "y_pred = knn.predict(X_test.toarray())\n",
    "c_mat = confusion_matrix(y_test,y_pred)\n",
    "acc = accuracy_score(y_test,y_pred) * 100\n",
    "print(acc)\n",
    "print (classification_report(y_test, y_pred))"
   ]
  }
 ],
 "metadata": {
  "kernelspec": {
   "display_name": "Python 3",
   "language": "python",
   "name": "python3"
  },
  "language_info": {
   "codemirror_mode": {
    "name": "ipython",
    "version": 3
   },
   "file_extension": ".py",
   "mimetype": "text/x-python",
   "name": "python",
   "nbconvert_exporter": "python",
   "pygments_lexer": "ipython3",
   "version": "3.7.3"
  }
 },
 "nbformat": 4,
 "nbformat_minor": 4
}
